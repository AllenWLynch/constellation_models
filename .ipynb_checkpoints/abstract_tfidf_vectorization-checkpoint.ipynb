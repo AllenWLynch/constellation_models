{
 "cells": [
  {
   "cell_type": "markdown",
   "metadata": {},
   "source": [
    "<hr>\n",
    "\n",
    "# *Objective:* Vectorize abstracts for quick similarity comparisons between papers\n",
    "\n",
    "\n",
    "# *Method:* TF-IDF Vectorization\n",
    "<hr>\n",
    "There are a great variety of successful document-embedding techniques, especially those emerging out of the supervised realm lead by Google's Universal Sentence Encoder. Those embedding models work well for standard english text, but will not transfer well to the biomedical domain out-of-the-box. Rather than retrain one of these complicated models, made complicated by the fact that the biomedical domain does only has a small semantic similarity dataset to benchmark and it cannot be used to compare abstracts, I will rely on research that has shown newer supervised methods do not significantly outperform BOW+TF-IDF models in unsupervised pharase similarity tasks. \n",
    "\n",
    "With this motivation, I will create a model for abstract similarity using the following stages:\n",
    "1. Word-level tokenization\n",
    "2. Normalization: lowercasing, punctuation removal, stopword removal\n",
    "4. Stemmatization\n",
    "5. Term frequency counting (TF)\n",
    "6. Doc frequency weighting (IDF)\n",
    "\n",
    "Biological stopwords will be provided courtesy of NCBI, and I will merge that set with the set of common english stopwords for coverage."
   ]
  },
  {
   "cell_type": "code",
   "execution_count": 2,
   "metadata": {},
   "outputs": [],
   "source": [
    "import numpy as np\n",
    "import pandas as pd\n",
    "import sklearn as sk\n",
    "from sklearn import manifold\n",
    "from sklearn import cluster\n",
    "import os\n",
    "from nltk.tokenize import sent_tokenize, word_tokenize\n",
    "from nltk.corpus import stopwords\n",
    "from nltk.stem.snowball import SnowballStemmer\n",
    "from string import punctuation\n",
    "import seaborn as sns\n",
    "import json\n",
    "from scipy import sparse\n",
    "sns.set(color_codes=True)\n",
    "data_dir = 'D:\\datasets\\covid'"
   ]
  },
  {
   "cell_type": "code",
   "execution_count": 2,
   "metadata": {},
   "outputs": [
    {
     "data": {
      "text/plain": [
       "(34301, 16)"
      ]
     },
     "execution_count": 2,
     "metadata": {},
     "output_type": "execute_result"
    }
   ],
   "source": [
    "data = pd.read_csv(os.path.join(data_dir, 'covid_data', 'metadata.csv'))\n",
    "\n",
    "data['abstract_len'] = data['abstract'].str.split(' ').str.len()\n",
    "data = data[(data.abstract_len > 50)]\n",
    "data.shape"
   ]
  },
  {
   "cell_type": "code",
   "execution_count": 3,
   "metadata": {},
   "outputs": [
    {
     "data": {
      "text/plain": [
       "(376, 313)"
      ]
     },
     "execution_count": 3,
     "metadata": {},
     "output_type": "execute_result"
    }
   ],
   "source": [
    "with open('./stopwords.txt', 'r') as f:\n",
    "    bio_stopwords = [line.strip() for line in f.readlines()]\n",
    "\n",
    "all_stopwords = list(set(stopwords.words('english')).union(set(bio_stopwords)))\n",
    "len(all_stopwords), len(bio_stopwords)"
   ]
  },
  {
   "cell_type": "markdown",
   "metadata": {},
   "source": [
    "### Text normalization for TF-IDF model\n",
    "1. Tokenize abstracts into sentences, then words\n",
    "2. Lowercase only the first letter in each sentence *if and only if* that word is not fully uppercase. (This prevents over-normalization of proper nouns or accronyms which are common in biological text.)\n",
    "3. Filter out punctuation\n",
    "4. Filter out stopwords\n",
    "\n",
    "##### Normalization example:\n",
    "BRCA1 is an important tumor suppressor. -> [BRCA1, is, an, important, tumor, suppressor]<br>\n",
    "This experiment tests BRCA1 tumor suppressing ability. -> [this, experiment, tests, BRCA1, tumor ...]"
   ]
  },
  {
   "cell_type": "code",
   "execution_count": 4,
   "metadata": {},
   "outputs": [
    {
     "data": {
      "text/plain": [
       "(34301, 33694)"
      ]
     },
     "execution_count": 4,
     "metadata": {},
     "output_type": "execute_result"
    }
   ],
   "source": [
    "stemmer = SnowballStemmer('english')\n",
    "\n",
    "def tokenize_and_lowercase(doc_str):\n",
    "    return [ \n",
    "        word if (word.isupper() or i > 0) and len(word) > 1 else word.lower()\n",
    "        for sent in sent_tokenize(doc_str) for i, word in enumerate(word_tokenize(sent))\n",
    "        if word not in punctuation\n",
    "    ]\n",
    "\n",
    "def all_preprocess(doc_str):\n",
    "    return [\n",
    "        stemmer.stem(word) for word in tokenize_and_lowercase(doc_str)\n",
    "        if word not in all_stopwords\n",
    "    ]\n",
    "\n",
    "count_vectorizer = sk.feature_extraction.text.CountVectorizer(\n",
    "    input = 'content',\n",
    "    analyzer = 'word',\n",
    "    preprocessor = None,\n",
    "    tokenizer = all_preprocess,\n",
    "    min_df = 3,\n",
    ")\n",
    "\n",
    "term_counts = count_vectorizer.fit_transform(list(data['abstract'].values))\n",
    "\n",
    "tf_idf_vectorizer = sk.feature_extraction.text.TfidfTransformer(\n",
    "    norm = 'l2',\n",
    "    use_idf = True,\n",
    "    smooth_idf = True,\n",
    ")\n",
    "\n",
    "doc_models = tf_idf_vectorizer.fit_transform(term_counts)\n",
    "doc_models.shape"
   ]
  },
  {
   "cell_type": "markdown",
   "metadata": {},
   "source": [
    "### Similarity Construction\n",
    "\n",
    "With the TF-IDF vectors of 34301 abstracts calculated with 33694 unique terms, the similarity matrix between abstracts can be constructed with the dot product. Since the document vectors are l2-normalized, this dot product will give inter-document cosine similarities.\n",
    "\n",
    "Constructing a similarity matrix for that many abstracts is a memory-intensive process, so before doing so, I will filter down to only include abstracts without important data missing and which have a full text available for analysis."
   ]
  },
  {
   "cell_type": "code",
   "execution_count": 5,
   "metadata": {},
   "outputs": [
    {
     "data": {
      "text/plain": [
       "(23975, 33694)"
      ]
     },
     "execution_count": 5,
     "metadata": {},
     "output_type": "execute_result"
    }
   ],
   "source": [
    "doc_models_df = pd.DataFrame(doc_models, index = data.index, columns = ['tf_idf_model'])\n",
    "\n",
    "interesting_articles = data\\\n",
    "    .dropna(subset = ['abstract', 'title','has_full_text','publish_time', 'authors'])\n",
    "interesting_articles = interesting_articles[interesting_articles.has_full_text]\n",
    "interesting_articles = interesting_articles.join(doc_models_df, how = 'left')\n",
    "\n",
    "doc_matrix = sparse.vstack([*interesting_articles['tf_idf_model'].values])\n",
    "doc_matrix.shape"
   ]
  },
  {
   "cell_type": "code",
   "execution_count": 6,
   "metadata": {},
   "outputs": [
    {
     "data": {
      "text/plain": [
       "(23975, 23975)"
      ]
     },
     "execution_count": 6,
     "metadata": {},
     "output_type": "execute_result"
    }
   ],
   "source": [
    "cosine_sims = np.dot(doc_matrix, doc_matrix.transpose()).astype(np.float32).toarray()\n",
    "cosine_sims.shape"
   ]
  },
  {
   "cell_type": "markdown",
   "metadata": {},
   "source": [
    "<hr>\n",
    "\n",
    "# *Objective:* Cluster papers based on TF-IDF similarity matrix\n",
    "\n",
    "# *Method:* Spectral Clustering\n",
    "<hr>\n",
    "The similarity matrix computed with the TF-IDF abstract vectors can be viewed as a weighted adjacency matrix for the graph of all papers, with more similar papers being more strongly-connected. By applying eigenvector decomposition to this adjacency matrix, one can transform the matrix from similarity space to a space where more similar papers are grouped closer together, allowing for the application of clustering algorithms, such as k-means.\n",
    "\n",
    "I will use k-means to discover the underlying distribution of the similarity data, if any, and to group papers for analysis."
   ]
  },
  {
   "cell_type": "markdown",
   "metadata": {},
   "source": [
    "### Spectral embedding\n",
    "\n",
    "First, I decomposed my similarity matrix, found by constructing a nearest neighbors graph. In this case I specified that each node may have 100 neighbors."
   ]
  },
  {
   "cell_type": "code",
   "execution_count": 7,
   "metadata": {},
   "outputs": [
    {
     "data": {
      "text/plain": [
       "(23975, 10)"
      ]
     },
     "execution_count": 7,
     "metadata": {},
     "output_type": "execute_result"
    }
   ],
   "source": [
    "spectral_embedding = manifold.SpectralEmbedding(n_components=10, affinity = \"precomputed\",\n",
    "    n_neighbors = 100, n_jobs = -1)\\\n",
    "    .fit_transform(cosine_sims)\n",
    "spectral_embedding.shape"
   ]
  },
  {
   "cell_type": "markdown",
   "metadata": {},
   "source": [
    "### Elbow Plot\n",
    "\n",
    "In order to choose the optimal amount of clusters to apply to the data, I employed an Elbow Plot. Though the number of clusters used is recommended to be the same as the number of embedded dimensions when performing spectral clustering, I simply wanted to verify the fit with varying k."
   ]
  },
  {
   "cell_type": "code",
   "execution_count": 8,
   "metadata": {},
   "outputs": [
    {
     "data": {
      "text/plain": [
       "<seaborn.axisgrid.FacetGrid at 0x1a6580133c8>"
      ]
     },
     "execution_count": 8,
     "metadata": {},
     "output_type": "execute_result"
    },
    {
     "data": {
      "image/png": "[encoded data removed]",
      "text/plain": [
       "<Figure size 360x360 with 1 Axes>"
      ]
     },
     "metadata": {},
     "output_type": "display_data"
    }
   ],
   "source": [
    "cluster_results = []\n",
    "for k in range(1,20):\n",
    "    clusters = cluster.KMeans(k, n_jobs = -1).fit(spectral_embedding)\n",
    "    cluster_results.append((k, clusters.inertia_))\n",
    "cluster_results_df = pd.DataFrame(cluster_results, columns = ['K','Distortion'])\n",
    "\n",
    "sns.relplot(data = cluster_results_df, x = 'K', y = 'Distortion', kind = 'line')"
   ]
  },
  {
   "cell_type": "markdown",
   "metadata": {},
   "source": [
    "### Results\n",
    "There does not appear to be a distinct elbow as the number of clusters increases, but interestingly, the only noticeable kink in the curve past K=5 is at K=10. This, along with the intuition that the number of clusters should be equal to the embedding dimension allowed me to confidently choose ten clusters. Additionally, this is the maximum number of clusters I care to interpret so that works out well."
   ]
  },
  {
   "cell_type": "code",
   "execution_count": 9,
   "metadata": {},
   "outputs": [],
   "source": [
    "labels = cluster.KMeans(10, n_jobs = -1, n_init = 50).fit_predict(spectral_embedding)"
   ]
  },
  {
   "cell_type": "markdown",
   "metadata": {},
   "source": [
    "### Saving Results\n",
    "\n",
    "Each document analyzed will have an assigned cluster. To compress the space requirements of storing the similarity matrix, I will only retain the top 100 matches for each paper."
   ]
  },
  {
   "cell_type": "code",
   "execution_count": 11,
   "metadata": {},
   "outputs": [],
   "source": [
    "sims_df = pd.DataFrame(cosine_sims, index = interesting_articles.index,  columns = interesting_articles.index)\n",
    "\n",
    "similarities_dict = {\n",
    "    from_idx : {\n",
    "        to_idx : sim_value\n",
    "        for to_idx, sim_value in sim_series.nlargest(100).items()\n",
    "    }\n",
    "    for from_idx, sim_series in sims_df.iterrows()\n",
    "}\n",
    "\n",
    "with open(os.path.join(data_dir, 'analysis_v2','similarities.json'), 'w') as f:\n",
    "    f.write(json.dumps(similarities_dict, indent = 4))"
   ]
  },
  {
   "cell_type": "code",
   "execution_count": 12,
   "metadata": {},
   "outputs": [],
   "source": [
    "labels = pd.Series(data = labels, index = interesting_articles.index)\n",
    "labels.name = 'label'\n",
    "\n",
    "interesting_articles = data.join(labels, how = 'inner')\n",
    "interesting_articles.reset_index().to_csv(\n",
    "    os.path.join(data_dir, 'analysis_v2', 'metadata_plus_analysis.csv'), \n",
    "    index = False)"
   ]
  },
  {
   "cell_type": "markdown",
   "metadata": {},
   "source": [
    "### Analyzing Clusters\n",
    "\n",
    "Though the elbow plot did not show inherent clusterability in the data, I found that the clusters have heterogeneous numbers of constituent papers, suggesting some distinct clusters exist. To name the clusters, I saved 50 paper titles from each cluster and examined them for a common theme."
   ]
  },
  {
   "cell_type": "code",
   "execution_count": 5,
   "metadata": {},
   "outputs": [],
   "source": [
    "data = pd.read_csv(os.path.join(data_dir, 'analysis_v2','metadata_plus_analysis.csv')).set_index('index')"
   ]
  },
  {
   "cell_type": "code",
   "execution_count": 8,
   "metadata": {},
   "outputs": [
    {
     "data": {
      "text/plain": [
       "6    5094\n",
       "4    4336\n",
       "0    3577\n",
       "3    3301\n",
       "1    3237\n",
       "5    1696\n",
       "8    1424\n",
       "9    1053\n",
       "2     232\n",
       "7      25\n",
       "Name: label, dtype: int64"
      ]
     },
     "execution_count": 8,
     "metadata": {},
     "output_type": "execute_result"
    }
   ],
   "source": [
    "data.label.value_counts()"
   ]
  },
  {
   "cell_type": "code",
   "execution_count": 14,
   "metadata": {},
   "outputs": [],
   "source": [
    "data.sort_values(['label','pagerank'], ascending = False).groupby('label').head(50)[['label', 'title']]\\\n",
    "    .to_csv('cluster_analysis.csv',index = False)"
   ]
  }
 ],
 "metadata": {
  "kernelspec": {
   "display_name": "text_analysis_env",
   "language": "python",
   "name": "text_analysis_env"
  },
  "language_info": {
   "codemirror_mode": {
    "name": "ipython",
    "version": 3
   },
   "file_extension": ".py",
   "mimetype": "text/x-python",
   "name": "python",
   "nbconvert_exporter": "python",
   "pygments_lexer": "ipython3",
   "version": "3.6.10"
  }
 },
 "nbformat": 4,
 "nbformat_minor": 4
}
