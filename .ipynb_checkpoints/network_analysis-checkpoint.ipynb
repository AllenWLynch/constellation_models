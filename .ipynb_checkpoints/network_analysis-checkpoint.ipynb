{
 "cells": [
  {
   "cell_type": "markdown",
   "metadata": {},
   "source": [
    "<hr>\n",
    "\n",
    "# *Objective:* Find importance of literature articles so users can focus on high-impact literature.\n",
    "\n",
    "# *Method:* PageRank over the Author-Journal-Citation network\n",
    "<hr>\n",
    "\n",
    "My literature impact model examines the papers in the corpus as linked in a large network of authors, papers, and journals. A paper connects to each of its authors, and the authors to each of their papers. A journal and a paper also share this bi-directional relationship, whereas the relationship between papers is one-directional: through a citation. With this network layout, shown below, I can employ the PageRank algorithm to find important nodes through \"voting\", where the importance of journals, authors, and papers depends on their connectedness to other imporant nodes. The inclusion of Author-Paper and Journal-Paper relationships are important, since more recent papers will have fewer citations than older papers. That does not make newer papers less impactful, but their imporatance will be more dependent on the impact of their publishing journal and authors.\n",
    "\n",
    "<img src = \"citation_net_model.png\">"
   ]
  },
  {
   "cell_type": "code",
   "execution_count": 2,
   "metadata": {},
   "outputs": [],
   "source": [
    "import os\n",
    "import networkx as nx\n",
    "import json\n",
    "import pandas as pd\n",
    "import numpy as np\n",
    "import seaborn\n",
    "seaborn.set(color_codes = True)\n",
    "data_dir = 'D:\\datasets\\covid'"
   ]
  },
  {
   "cell_type": "markdown",
   "metadata": {},
   "source": [
    "### Extracting network data from article schema\n",
    "First, I transformed the full-text json objects into a more condensed format, keeping only information relevant to peicing together the citation network."
   ]
  },
  {
   "cell_type": "code",
   "execution_count": 2,
   "metadata": {},
   "outputs": [
    {
     "name": "stdout",
     "output_type": "stream",
     "text": [
      "Conversions: 29315"
     ]
    }
   ],
   "source": [
    "def get_name_id(author_metadata):\n",
    "    try:\n",
    "        first_initial = author_metadata['first'][0] \n",
    "    except (KeyError, IndexError):\n",
    "        first_initial = ''\n",
    "    middle_intitial = author_metadata['middle'][0] if len(author_metadata['middle']) > 0 else ''\n",
    "    last = author_metadata['last'] or ''\n",
    "    if len(first_initial + middle_intitial + last) == 0:\n",
    "        return 'N.A'\n",
    "    return '{}, {}{}'.format(last, first_initial, middle_intitial)\n",
    "\n",
    "def get_paper_id(bib_metadata):\n",
    "    return bib_metadata['title'].lower() if bib_metadata['title'] else None\n",
    "\n",
    "def convert_json_to_network_data(json_str):\n",
    "    schema = json.loads(json_str)\n",
    "    output_schema = {\n",
    "        'paper_id' : schema['paper_id'],\n",
    "        'authors' : [\n",
    "            get_name_id(author_metadata) for author_metadata in schema['metadata']['authors']\n",
    "        ],\n",
    "        'citations' : [\n",
    "            {\n",
    "                'paper' : get_paper_id(bib_metadata),\n",
    "                'authors' : [\n",
    "                    get_name_id(author_metadata) for author_metadata in bib_metadata['authors']\n",
    "                ],\n",
    "                'source' : bib_metadata['venue'] or None\n",
    "            }\n",
    "            for (bibkey, bib_metadata) in schema['bib_entries'].items()\n",
    "        ]\n",
    "    }\n",
    "    return (schema['paper_id'], json.dumps(output_schema))\n",
    "\n",
    "full_text_dirs = [\n",
    "    'D:\\\\datasets\\\\covid\\\\covid_data\\\\noncomm_use_subset\\\\noncomm_use_subset',\n",
    "    'D:\\\\datasets\\\\covid\\\\covid_data\\\\custom_license\\\\custom_license',\n",
    "    'D:\\\\datasets\\\\covid\\\\covid_data\\\\comm_use_subset\\\\comm_use_subset',\n",
    "    'D:\\\\datasets\\\\covid\\\\covid_data\\\\biorxiv_medrxiv\\\\biorxiv_medrxiv'\n",
    "]\n",
    "\n",
    "network_data = []\n",
    "successes = 0\n",
    "for archive_dir in full_text_dirs:\n",
    "    for filename in os.listdir(os.path.join(archive_dir)):\n",
    "        try:\n",
    "            with open(os.path.join(archive_dir, filename), 'r') as f:\n",
    "                paper_text = f.read()\n",
    "            paper_data = convert_json_to_network_data(paper_text)\n",
    "            network_data.append(paper_data)\n",
    "            successes += 1\n",
    "            print('\\rConversions: {}'.format(str(successes)), end = '')\n",
    "        except Exception as err:\n",
    "            raise err"
   ]
  },
  {
   "cell_type": "markdown",
   "metadata": {},
   "source": [
    "Then, using the network data generated, I merged the network data of each paper with its respective metadata and generated the connections for each paper."
   ]
  },
  {
   "cell_type": "code",
   "execution_count": null,
   "metadata": {},
   "outputs": [],
   "source": [
    "data = pd.read_csv(os.path.join(data_dir, 'covid_data', 'metadata.csv'))\n",
    "\n",
    "network_metadata = data.loc[:,['sha','source_x','title']]\n",
    "network_metadata = network_metadata.dropna()\n",
    "\n",
    "connections_df = pd.DataFrame(network_data, columns = ['sha','json_str'])\n",
    "network_metadata = network_metadata.reset_index()\\\n",
    "    .merge(connections_df, on = 'sha', how = 'inner').set_index('index')"
   ]
  },
  {
   "cell_type": "markdown",
   "metadata": {},
   "source": [
    "## Constructing Edgelist\n",
    "\n",
    "The next function takes the metadata and network data for each paper and generates all possible connections between nodes. This list of connections forms the edgelist, and duplicate connections are dropped."
   ]
  },
  {
   "cell_type": "code",
   "execution_count": 4,
   "metadata": {},
   "outputs": [],
   "source": [
    "def extract_relationships(row):\n",
    "    paper_id = row['title'].lower()\n",
    "    journal = row['source_x'].lower()\n",
    "    schema = json.loads(row['json_str'])\n",
    "    \n",
    "    connections = []\n",
    "    if journal:\n",
    "        connections.append((journal, paper_id, 'journal -> paper'))\n",
    "        connections.append((paper_id, journal, 'paper -> journal'))    \n",
    "    for author in schema['authors']:\n",
    "        connections.append((author, paper_id, 'author -> paper'))\n",
    "        connections.append((paper_id, author, 'paper -> author'))\n",
    "    for cited_paper in schema['citations']:\n",
    "        if cited_paper['paper']:\n",
    "            cited_paper_id = cited_paper['paper']\n",
    "            connections.append((paper_id, cited_paper_id, 'paper -> paper'))\n",
    "            for cited_author in cited_paper['authors']:\n",
    "                connections.append((cited_paper_id, cited_author, 'paper -> author'))\n",
    "                connections.append((cited_author, cited_paper_id, 'author -> paper'))\n",
    "            if cited_paper['source']:\n",
    "                cited_source = cited_paper['source'].lower()\n",
    "                connections.append((cited_source, cited_paper_id, 'journal -> paper'))\n",
    "                connections.append((cited_paper_id, cited_source, 'paper -> journal')) \n",
    "                \n",
    "    return connections\n",
    "\n",
    "connections = network_metadata.apply(lambda x : extract_relationships(x), axis = 1)"
   ]
  },
  {
   "cell_type": "code",
   "execution_count": 5,
   "metadata": {},
   "outputs": [],
   "source": [
    "edges_df = pd.DataFrame(list(connections.explode().values), columns = ['src','dest','relationship'])\\\n",
    "    .drop_duplicates()\n",
    "\n",
    "cite_graph = nx.from_pandas_edgelist(edges_df, source = 'src', target = 'dest', edge_attr = True)"
   ]
  },
  {
   "cell_type": "markdown",
   "metadata": {},
   "source": [
    "PageRank implemented by the NetworkX package"
   ]
  },
  {
   "cell_type": "code",
   "execution_count": 6,
   "metadata": {},
   "outputs": [],
   "source": [
    "page_ranks = nx.pagerank(cite_graph, alpha = 0.85)"
   ]
  },
  {
   "cell_type": "markdown",
   "metadata": {},
   "source": [
    "### Transforming pagerank results and merging with paper metadata"
   ]
  },
  {
   "cell_type": "code",
   "execution_count": 10,
   "metadata": {},
   "outputs": [],
   "source": [
    "edges_df[['type1','type2']] = edges_df['relationship'].str.split(' -> ', expand = True)\n",
    "\n",
    "nodes = edges_df[['src','type1']]\n",
    "nodes = nodes.rename(columns = {'src':'node','type1' : 'type'})\n",
    "\n",
    "nodes = nodes.append(edges_df[['dest','type2']].rename(\n",
    "    columns = {'type2': 'type', 'dest':'node'}))\n",
    "\n",
    "nodes = nodes.drop_duplicates()"
   ]
  },
  {
   "cell_type": "code",
   "execution_count": null,
   "metadata": {},
   "outputs": [],
   "source": [
    "pagerank_df = pd.DataFrame(iter(page_ranks.items()), columns = ['node', 'pagerank'])\n",
    "nodes = nodes.set_index('node').join(pagerank_df.set_index('node'), how = 'left')\n",
    "nodes = nodes[nodes.type == 'paper']\n",
    "\n",
    "nodes = nodes.reset_index().rename(columns = {'node' : 'title_lower'})"
   ]
  },
  {
   "cell_type": "code",
   "execution_count": 12,
   "metadata": {},
   "outputs": [],
   "source": [
    "interesting_lit = pd.read_csv(os.path.join(data_dir, 'analysis_v2', 'metadata_plus_analysis.csv'))\n",
    "interesting_lit['title_lower'] = interesting_lit['title'].str.lower()\n",
    "\n",
    "interesting_lit = interesting_lit.merge(nodes, on = 'title_lower', how = 'left')\n",
    "interesting_lit = interesting_lit.drop(columns = ['type'])"
   ]
  },
  {
   "cell_type": "markdown",
   "metadata": {},
   "source": [
    "### Saving results"
   ]
  },
  {
   "cell_type": "code",
   "execution_count": 30,
   "metadata": {},
   "outputs": [],
   "source": [
    "interesting_lit.to_csv(os.path.join(data_dir, 'analysis_v2', 'metadata_plus_analysis.csv'), index = False)"
   ]
  },
  {
   "cell_type": "markdown",
   "metadata": {},
   "source": [
    "### Analyzing results of pagerank\n",
    "\n",
    "The pagerank of individual papers are difficult to assess, but I wanted the resultant pageranks to follow a normal distribution for interpretability by the user. I also wished pagerank values to express that most papers are average, while some are good and some are bad. As seen below, the log of my pagerank scores are beautifully normal, so I intent to present the 0-1 log normalized pagerank to my users."
   ]
  },
  {
   "cell_type": "code",
   "execution_count": 6,
   "metadata": {},
   "outputs": [],
   "source": [
    "import matplotlib.pyplot as plt\n",
    "from sklearn.preprocessing import MinMaxScaler"
   ]
  },
  {
   "cell_type": "code",
   "execution_count": 3,
   "metadata": {},
   "outputs": [],
   "source": [
    "data = pd.read_csv(os.path.join(data_dir, 'analysis_v2', 'metadata_plus_analysis.csv')).set_index('index')"
   ]
  },
  {
   "cell_type": "code",
   "execution_count": 7,
   "metadata": {},
   "outputs": [],
   "source": [
    "pageranks_df = pd.DataFrame({\n",
    "    'pagerank' : MinMaxScaler().fit_transform(data.pagerank.values.reshape(-1,1)).reshape(-1,),\n",
    "    'Normalization' : 'None'})\n",
    "\n",
    "pageranks_df_2 = pd.DataFrame({\n",
    "    'pagerank' : MinMaxScaler().fit_transform(np.log(data.pagerank.values).reshape(-1,1)).reshape(-1,),\n",
    "    'Normalization' : 'Log'})\n",
    "\n",
    "pg_df = pageranks_df.append(pageranks_df_2)"
   ]
  },
  {
   "cell_type": "code",
   "execution_count": 8,
   "metadata": {},
   "outputs": [
    {
     "data": {
      "text/plain": [
       "<seaborn.axisgrid.FacetGrid at 0x14c98ea32e8>"
      ]
     },
     "execution_count": 8,
     "metadata": {},
     "output_type": "execute_result"
    },
    {
     "data": {
      "image/png": "[encoded data removed]",
      "text/plain": [
       "<Figure size 432x216 with 2 Axes>"
      ]
     },
     "metadata": {},
     "output_type": "display_data"
    }
   ],
   "source": [
    "g = seaborn.FacetGrid(pg_df, col = 'Normalization')\n",
    "g.map(seaborn.distplot, 'pagerank')"
   ]
  },
  {
   "cell_type": "markdown",
   "metadata": {},
   "source": [
    "One concern I have following the log-normal distribution is the long tails due to outliers. This will leave a lot of empty space on the constellation plot and groups too many papers too close to the mean. To remedy this, I will scale the normal distribution, then truncate outliers so the bell of the curve covers a higher portion of the score range.\n",
    "\n",
    "A good approach is to have three standard deviations on either side of the mean so that only papers with scores in the most extreme 1% have their scores truncated."
   ]
  },
  {
   "cell_type": "code",
   "execution_count": 11,
   "metadata": {},
   "outputs": [],
   "source": [
    "log_pageranks = pd.Series(\n",
    "    data = MinMaxScaler().fit_transform(np.log(data.pagerank.values).reshape(-1,1)).reshape(-1,),\n",
    "    index = data.index)"
   ]
  },
  {
   "cell_type": "code",
   "execution_count": 25,
   "metadata": {},
   "outputs": [
    {
     "name": "stdout",
     "output_type": "stream",
     "text": [
      "Scale Factor:  1.6162869177292625\n"
     ]
    },
    {
     "data": {
      "text/plain": [
       "<matplotlib.axes._subplots.AxesSubplot at 0x14c9f07dac8>"
      ]
     },
     "execution_count": 25,
     "metadata": {},
     "output_type": "execute_result"
    },
    {
     "data": {
      "image/png": "[encoded data removed]",
      "text/plain": [
       "<Figure size 432x288 with 1 Axes>"
      ]
     },
     "metadata": {},
     "output_type": "display_data"
    }
   ],
   "source": [
    "scale_factor = (0.5/3)/log_pageranks.std()\n",
    "test = np.clip(scale_factor * (log_pageranks - log_pageranks.mean()) + 0.5, 0.0, 1.0)\n",
    "print(\"Scale Factor: \", scale_factor)\n",
    "seaborn.distplot(test)"
   ]
  },
  {
   "cell_type": "markdown",
   "metadata": {},
   "source": [
    "With a scaling factor of 1.616, the scores follow a normal distribution that inhabits a greater portion of the 0-1 range, which I think gives the user a good visual baseline of paper impact."
   ]
  },
  {
   "cell_type": "code",
   "execution_count": 29,
   "metadata": {},
   "outputs": [],
   "source": [
    "test.name = 'norm_pagerank'\n",
    "data = data.join(test, how = 'left')"
   ]
  },
  {
   "cell_type": "code",
   "execution_count": 32,
   "metadata": {},
   "outputs": [],
   "source": [
    "data.reset_index().to_csv(os.path.join(data_dir, 'analysis_v2','metadata_plus_analysis.csv'), index = False)"
   ]
  }
 ],
 "metadata": {
  "kernelspec": {
   "display_name": "text_analysis_env",
   "language": "python",
   "name": "text_analysis_env"
  },
  "language_info": {
   "codemirror_mode": {
    "name": "ipython",
    "version": 3
   },
   "file_extension": ".py",
   "mimetype": "text/x-python",
   "name": "python",
   "nbconvert_exporter": "python",
   "pygments_lexer": "ipython3",
   "version": "3.6.10"
  }
 },
 "nbformat": 4,
 "nbformat_minor": 4
}
